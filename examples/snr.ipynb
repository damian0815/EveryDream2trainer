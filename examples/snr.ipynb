{
 "cells": [
  {
   "cell_type": "code",
   "id": "initial_id",
   "metadata": {
    "collapsed": true,
    "ExecuteTime": {
     "end_time": "2025-04-16T07:28:13.911823Z",
     "start_time": "2025-04-16T07:28:13.898244Z"
    }
   },
   "source": [
    "import torch\n",
    "import matplotlib.pyplot as plt\n",
    "timesteps = torch.arange(0, 1000)\n",
    "timesteps"
   ],
   "outputs": [
    {
     "ename": "ModuleNotFoundError",
     "evalue": "No module named 'matplotlib'",
     "output_type": "error",
     "traceback": [
      "\u001B[0;31m---------------------------------------------------------------------------\u001B[0m",
      "\u001B[0;31mModuleNotFoundError\u001B[0m                       Traceback (most recent call last)",
      "Cell \u001B[0;32mIn[2], line 2\u001B[0m\n\u001B[1;32m      1\u001B[0m \u001B[38;5;28;01mimport\u001B[39;00m \u001B[38;5;21;01mtorch\u001B[39;00m\n\u001B[0;32m----> 2\u001B[0m \u001B[38;5;28;01mimport\u001B[39;00m \u001B[38;5;21;01mmatplotlib\u001B[39;00m\u001B[38;5;21;01m.\u001B[39;00m\u001B[38;5;21;01mpyplot\u001B[39;00m \u001B[38;5;28;01mas\u001B[39;00m \u001B[38;5;21;01mplt\u001B[39;00m\n\u001B[1;32m      3\u001B[0m timesteps \u001B[38;5;241m=\u001B[39m torch\u001B[38;5;241m.\u001B[39marange(\u001B[38;5;241m0\u001B[39m, \u001B[38;5;241m1000\u001B[39m)\n\u001B[1;32m      4\u001B[0m timesteps\u001B[38;5;241m*\u001B[39m\u001B[38;5;241m2\u001B[39m\n",
      "\u001B[0;31mModuleNotFoundError\u001B[0m: No module named 'matplotlib'"
     ]
    }
   ],
   "execution_count": 2
  },
  {
   "metadata": {},
   "cell_type": "code",
   "outputs": [],
   "execution_count": null,
   "source": "!pip install -U transformers \"diffusers[torch]\" huggingface_hub accelerate",
   "id": "d6c356c3600e84d3"
  },
  {
   "metadata": {},
   "cell_type": "code",
   "outputs": [],
   "execution_count": null,
   "source": [
    "from diffusers import DDPMScheduler\n",
    "from train import get_training_noise_scheduler\n",
    "from loss import  compute_snr\n",
    "def plot_snr_weight(gamma, v_pred, max_sigma):\n",
    "    scheduler_config = {\n",
    "              \"_class_name\": \"DDIMScheduler\",\n",
    "              \"_diffusers_version\": \"0.8.0\",\n",
    "              \"beta_end\": 0.012,\n",
    "              \"beta_schedule\": \"scaled_linear\",\n",
    "              \"beta_start\": 0.00085,\n",
    "              \"clip_sample\": False,\n",
    "              \"num_train_timesteps\": 1000,\n",
    "              \"prediction_type\": \"v_prediction\",\n",
    "              \"set_alpha_to_one\": False,\n",
    "              \"skip_prk_steps\": True,\n",
    "              \"steps_offset\": 1,\n",
    "              \"trained_betas\": None\n",
    "            }\n",
    "    noise_scheduler = DDPMScheduler.from_config(scheduler_config)\n",
    "    timesteps = torch.arange(0, 1000)\n",
    "    snr = compute_snr(timesteps, noise_scheduler, max_sigma=max_sigma)\n",
    "    min_snr_gamma = torch.minimum(snr, torch.full_like(snr, gamma))\n",
    "    if v_pred:\n",
    "        weights = min_snr_gamma / (snr + 1)\n",
    "    else:\n",
    "        weights =  min_snr_gamma / snr\n",
    "    #print(weights)\n",
    "    plt.plot(weights)\n",
    "    return weights\n"
   ],
   "id": "22ea17161b16cb4e"
  },
  {
   "metadata": {},
   "cell_type": "code",
   "outputs": [],
   "execution_count": null,
   "source": [
    "weights = plot_snr_weight(gamma=1.5, v_pred=True, max_sigma=22000)\n",
    "print(weights.min(), weights.max(), weights[0], weights[-1], weights.sum()/len(weights))"
   ],
   "id": "a30f5077746699cc"
  },
  {
   "metadata": {},
   "cell_type": "code",
   "outputs": [],
   "execution_count": null,
   "source": [
    "weights = plot_snr_weight(gamma=5, v_pred=True, max_sigma=22000)\n",
    "print(weights.min(), weights.max(), weights[0], weights[-1], weights.sum()/len(weights))"
   ],
   "id": "303728f1118ef167"
  },
  {
   "metadata": {},
   "cell_type": "code",
   "source": "plot_snr_weight(gamma=5, v_pred=True)",
   "id": "cf75b78cd304a281",
   "outputs": [],
   "execution_count": null
  },
  {
   "metadata": {},
   "cell_type": "code",
   "source": [
    "# v-pred, gamma=5\n",
    "plot_snr_weight(gamma=1.5, v_pred=True)"
   ],
   "id": "ce468013f259356b",
   "outputs": [],
   "execution_count": null
  },
  {
   "metadata": {
    "ExecuteTime": {
     "end_time": "2025-04-15T10:24:22.221259Z",
     "start_time": "2025-04-15T10:24:22.186090Z"
    }
   },
   "cell_type": "code",
   "source": "plot_snr_weight(gamma=5, v_pred=True)\n",
   "id": "51483ec13613f19d",
   "outputs": [
    {
     "ename": "NameError",
     "evalue": "name 'plot_snr_weight' is not defined",
     "output_type": "error",
     "traceback": [
      "\u001B[0;31m---------------------------------------------------------------------------\u001B[0m",
      "\u001B[0;31mNameError\u001B[0m                                 Traceback (most recent call last)",
      "Cell \u001B[0;32mIn[8], line 1\u001B[0m\n\u001B[0;32m----> 1\u001B[0m \u001B[43mplot_snr_weight\u001B[49m(gamma\u001B[38;5;241m=\u001B[39m\u001B[38;5;241m5\u001B[39m, v_pred\u001B[38;5;241m=\u001B[39m\u001B[38;5;28;01mTrue\u001B[39;00m)\n",
      "\u001B[0;31mNameError\u001B[0m: name 'plot_snr_weight' is not defined"
     ]
    }
   ],
   "execution_count": 8
  },
  {
   "metadata": {},
   "cell_type": "code",
   "outputs": [],
   "execution_count": null,
   "source": "",
   "id": "999d6a52535ba2d"
  }
 ],
 "metadata": {
  "kernelspec": {
   "display_name": "Python 3",
   "language": "python",
   "name": "python3"
  },
  "language_info": {
   "codemirror_mode": {
    "name": "ipython",
    "version": 2
   },
   "file_extension": ".py",
   "mimetype": "text/x-python",
   "name": "python",
   "nbconvert_exporter": "python",
   "pygments_lexer": "ipython2",
   "version": "2.7.6"
  }
 },
 "nbformat": 4,
 "nbformat_minor": 5
}
