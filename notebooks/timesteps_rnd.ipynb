{
 "cells": [
  {
   "metadata": {
    "ExecuteTime": {
     "end_time": "2025-02-28T07:20:20.079333Z",
     "start_time": "2025-02-28T07:20:20.076121Z"
    }
   },
   "cell_type": "code",
   "source": [
    "from argparse import Namespace\n",
    "args = Namespace(timestep_start=0, timestep_end=1000, timestep_curriculum_alpha=0.5)"
   ],
   "id": "63e15f439f38bf63",
   "outputs": [],
   "execution_count": 8
  },
  {
   "metadata": {
    "ExecuteTime": {
     "end_time": "2025-02-28T07:19:13.443458Z",
     "start_time": "2025-02-28T07:19:13.430459Z"
    }
   },
   "cell_type": "code",
   "source": "from ..loss import get_timestep_curriculum_range ",
   "id": "65c9e91c647902ea",
   "outputs": [
    {
     "ename": "ImportError",
     "evalue": "attempted relative import with no known parent package",
     "output_type": "error",
     "traceback": [
      "\u001B[0;31m---------------------------------------------------------------------------\u001B[0m",
      "\u001B[0;31mImportError\u001B[0m                               Traceback (most recent call last)",
      "Cell \u001B[0;32mIn[3], line 1\u001B[0m\n\u001B[0;32m----> 1\u001B[0m \u001B[38;5;28;01mfrom\u001B[39;00m \u001B[38;5;21;01m.\u001B[39;00m\u001B[38;5;21;01m.\u001B[39;00m\u001B[38;5;21;01mloss\u001B[39;00m \u001B[38;5;28;01mimport\u001B[39;00m get_timestep_curriculum_range \n",
      "\u001B[0;31mImportError\u001B[0m: attempted relative import with no known parent package"
     ]
    }
   ],
   "execution_count": 3
  },
  {
   "metadata": {
    "ExecuteTime": {
     "end_time": "2025-02-28T07:19:41.565202Z",
     "start_time": "2025-02-28T07:19:41.559867Z"
    }
   },
   "cell_type": "code",
   "source": [
    "def get_exponential_scaled_value(progress_01, initial_value, final_value, alpha=3.0):\n",
    "    # Apply non-linear scaling with alpha (higher alpha = faster early descent)\n",
    "    scaled_progress = progress_01 ** alpha\n",
    "    return initial_value + scaled_progress * (final_value - initial_value)\n",
    "\n",
    "\n",
    "def get_timestep_curriculum_range(progress_01,\n",
    "                                  t_min_initial=800, t_max_initial=1000,\n",
    "                                  t_min_final=0, t_max_final=400,\n",
    "                                  alpha=3.0):\n",
    "    # Interpolate boundaries\n",
    "    min_t = get_exponential_scaled_value(progress_01, t_min_initial, t_min_final, alpha=alpha)\n",
    "    max_t = get_exponential_scaled_value(progress_01, t_max_initial, t_max_final, alpha=alpha)\n",
    "\n",
    "    assert min_t <= max_t\n",
    "    return int(min_t), int(max_t)\n",
    "\n"
   ],
   "id": "a1a2feb6da2f913e",
   "outputs": [],
   "execution_count": 4
  },
  {
   "cell_type": "code",
   "id": "initial_id",
   "metadata": {
    "collapsed": true,
    "ExecuteTime": {
     "end_time": "2025-02-28T07:20:23.023181Z",
     "start_time": "2025-02-28T07:20:23.017969Z"
    }
   },
   "source": [
    "train_progress_01 = 0.5\n",
    "\n",
    "def lerp(x, in_min, in_max, out_min, out_max):\n",
    "    pct = (x - in_min) / (in_max-in_min)\n",
    "    return out_min + pct * (out_max-out_min)\n",
    "t_min_initial = int(lerp(800, 0, 1000, args.timestep_start, args.timestep_end))\n",
    "t_max_final = int(lerp(200, 0, 1000, args.timestep_start, args.timestep_end))\n",
    "timestep_range = get_timestep_curriculum_range(progress_01=train_progress_01,\n",
    "                                               t_min_initial=t_min_initial,\n",
    "                                               t_max_initial=args.timestep_end,\n",
    "                                               t_min_final=args.timestep_start,\n",
    "                                               t_max_final=t_max_final,\n",
    "                                               alpha=args.timestep_curriculum_alpha)\n"
   ],
   "outputs": [],
   "execution_count": 9
  },
  {
   "metadata": {
    "ExecuteTime": {
     "end_time": "2025-02-28T07:34:54.939409Z",
     "start_time": "2025-02-28T07:34:54.934954Z"
    }
   },
   "cell_type": "code",
   "source": [
    "import random\n",
    "r = random.random()"
   ],
   "id": "c804c94ccc3d8c24",
   "outputs": [
    {
     "data": {
      "text/plain": [
       "0.0010000000000000002"
      ]
     },
     "execution_count": 19,
     "metadata": {},
     "output_type": "execute_result"
    }
   ],
   "execution_count": 19
  },
  {
   "metadata": {
    "ExecuteTime": {
     "end_time": "2025-02-28T07:42:41.924512Z",
     "start_time": "2025-02-28T07:42:41.919312Z"
    }
   },
   "cell_type": "code",
   "source": [
    "def get_random_max_time(lower_bound, upper_bound=1000):\n",
    "    r = random.random()\n",
    "    return round(lerp(pow(r, 6), 0, 1, lower_bound, upper_bound))\n",
    "\n",
    "print(sorted([random.randint(0, get_random_max_time(400)) for _ in range(10)]))\n",
    "print(sorted([random.randint(0, get_random_max_time(400)) for _ in range(10)]))\n",
    "print(sorted([random.randint(0, get_random_max_time(400)) for _ in range(10)]))"
   ],
   "id": "41c9d95eff3ae16",
   "outputs": [
    {
     "name": "stdout",
     "output_type": "stream",
     "text": [
      "[36, 43, 98, 102, 103, 153, 354, 372, 388, 396]\n",
      "[88, 113, 193, 243, 323, 328, 393, 489, 608, 737]\n",
      "[55, 105, 118, 202, 237, 372, 373, 563, 674, 788]\n"
     ]
    }
   ],
   "execution_count": 40
  },
  {
   "metadata": {},
   "cell_type": "code",
   "outputs": [],
   "execution_count": null,
   "source": "",
   "id": "3d2f584ca662fda4"
  }
 ],
 "metadata": {
  "kernelspec": {
   "display_name": "Python 3",
   "language": "python",
   "name": "python3"
  },
  "language_info": {
   "codemirror_mode": {
    "name": "ipython",
    "version": 2
   },
   "file_extension": ".py",
   "mimetype": "text/x-python",
   "name": "python",
   "nbconvert_exporter": "python",
   "pygments_lexer": "ipython2",
   "version": "2.7.6"
  }
 },
 "nbformat": 4,
 "nbformat_minor": 5
}
